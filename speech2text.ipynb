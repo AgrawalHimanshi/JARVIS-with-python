{
 "cells": [
  {
   "cell_type": "markdown",
   "metadata": {},
   "source": [
    "# Speech Recogniton\n",
    "\n",
    "Speech Recognition is an important feature in several applications used such as home automation, artificial intelligence, etc.\n",
    "This article aims to provide an introduction on how to make use of the SpeechRecognition library of Python. This is useful as\n",
    "it can be used on microcontrollers such as Raspberri Pis with the help of an external microphone."
   ]
  },
  {
   "cell_type": "markdown",
   "metadata": {},
   "source": [
    "# Required Installations\n",
    "\n",
    "The following must be installed:\n",
    "\n",
    "1. Python Speech Recognition module:\n",
    "    sudo pip install SpeechRecognition \n",
    "2. PyAudio: Use the following command for linux users\n",
    "    sudo apt-get install python-pyaudio python3-pyaudio"
   ]
  },
  {
   "cell_type": "markdown",
   "metadata": {},
   "source": [
    "# Speech Input Using a Microphone and Translation of Speech to Text\n",
    "\n",
    "1. Configure Microphone (For external microphones): It is advisable to specify the microphone during the program to avoid any glitches.\n",
    "Type lsusb in the terminal. A list of connected devices will show up. The microphone name would look like this\n",
    "USB Device 0x46d:0x825: Audio (hw:1, 0)\n",
    "Make a note of this as it will be used in the program.\n",
    "\n",
    "2. Set Chunk Size: This basically involved specifying how many bytes of data we want to read at once. Typically, this value is\n",
    "    specified in powers of 2 such as 1024 or 2048.\n",
    "    \n",
    "3. Set Sampling Rate: Sampling rate defines how often values are recorded for processing.\n",
    "    \n",
    "4.Set Device ID to the selected microphone: In this step, we specify the device ID of the microphone that we wish to use in\n",
    "    order to avoid ambiguity in case there are multiple microphones. This also helps debug, in the sense that, while running the\n",
    "    program, we will know whether the specified microphone is being recognized. During the program, we specify a parameter device\n",
    "    _id. The program will say that device_id could not be found if the microphone is not recognized.\n",
    "    \n",
    "5. Allow Adjusting for Ambient Noise: Since the surrounding noise varies, we must allow the program a second or too to adjust\n",
    "    the energy threshold of recording so it is adjusted according to the external noise level.\n",
    "    \n",
    "6. Speech to text translation: This is done with the help of Google Speech Recognition. This requires an active internet \n",
    "    connection to work. However, there are certain offline Recognition systems such as PocketSphinx, but have a very rigorous\n",
    "    installation process that requires several dependencies. Google Speech Recognition is one of the easiest to use."
   ]
  },
  {
   "cell_type": "code",
   "execution_count": 2,
   "metadata": {},
   "outputs": [
    {
     "name": "stdout",
     "output_type": "stream",
     "text": [
      "speak anything\n",
      "you said: Himanshi\n"
     ]
    }
   ],
   "source": [
    "import speech_recognition as sr # importing \n",
    "r=sr.Recognizer()\n",
    "with sr.Microphone() as source: # source of microphone\n",
    "    print(\"speak anything\")\n",
    "    audio=r.listen(source)\n",
    "    try:\n",
    "        text=r.recognize_google(audio) # speech to text\n",
    "        print(\"you said: {}\".format(text))\n",
    "    except:\n",
    "        print(\"couldn't recognize\")"
   ]
  },
  {
   "cell_type": "code",
   "execution_count": 5,
   "metadata": {},
   "outputs": [],
   "source": []
  }
 ],
 "metadata": {
  "kernelspec": {
   "display_name": "Python 3",
   "language": "python",
   "name": "python3"
  },
  "language_info": {
   "codemirror_mode": {
    "name": "ipython",
    "version": 3
   },
   "file_extension": ".py",
   "mimetype": "text/x-python",
   "name": "python",
   "nbconvert_exporter": "python",
   "pygments_lexer": "ipython3",
   "version": "3.6.5"
  }
 },
 "nbformat": 4,
 "nbformat_minor": 2
}
